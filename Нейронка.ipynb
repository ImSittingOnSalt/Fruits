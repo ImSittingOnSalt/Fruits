{
  "nbformat": 4,
  "nbformat_minor": 0,
  "metadata": {
    "colab": {
      "provenance": []
    },
    "kernelspec": {
      "name": "python3",
      "display_name": "Python 3"
    },
    "language_info": {
      "name": "python"
    }
  },
  "cells": [
    {
      "cell_type": "code",
      "execution_count": null,
      "metadata": {
        "id": "vaR7iDz2gMrw"
      },
      "outputs": [],
      "source": [
        "import os\n",
        "import pandas as pd\n",
        "import seaborn as sns\n",
        "import matplotlib.pyplot as plt\n",
        "import numpy as np\n",
        "import tensorflow as tf\n",
        "from tensorflow import keras\n",
        "from tensorflow.keras import layers\n",
        "from tensorflow.keras import layers, callbacks"
      ]
    },
    {
      "cell_type": "markdown",
      "source": [
        "Импортируем нужные библиотеки"
      ],
      "metadata": {
        "id": "v_aVmiZtgP_E"
      }
    },
    {
      "cell_type": "code",
      "source": [
        "# load dataset\n",
        "train_dir = '../input/fruits/fruits-360_dataset/fruits-360/Training'\n",
        "test_dir = '../input/fruits/fruits-360_dataset/fruits-360/Test'\n",
        "\n",
        "# Load training dataset without preprocessing\n",
        "train_ds = tf.keras.preprocessing.image_dataset_from_directory(\n",
        "    train_dir,\n",
        "    validation_split=0.2,\n",
        "    subset='training',\n",
        "    batch_size=32,\n",
        "    image_size=(100, 100),\n",
        "    seed=123,\n",
        "    shuffle=True,\n",
        ")\n",
        "\n",
        "# Load validation dataset without preprocessing\n",
        "val_ds = tf.keras.preprocessing.image_dataset_from_directory(\n",
        "    train_dir,\n",
        "    validation_split=0.2,\n",
        "    subset='validation',\n",
        "    batch_size=32,\n",
        "    image_size=(100, 100),\n",
        "    seed=42,\n",
        ")"
      ],
      "metadata": {
        "id": "UOAeLoBYgOtc"
      },
      "execution_count": null,
      "outputs": []
    },
    {
      "cell_type": "markdown",
      "source": [
        "Загрузка данных из папочек"
      ],
      "metadata": {
        "id": "vqHgv5FemCKV"
      }
    },
    {
      "cell_type": "code",
      "source": [
        "# Get the class names from the subdirectories in the training directory\n",
        "class_names = sorted(os.listdir(train_dir))\n",
        "\n",
        "# Print the class names and the number of classes\n",
        "print(\"Class Names:\", class_names)\n",
        "num_classes = len(class_names)\n",
        "print(\"Number of Classes:\", num_classes)"
      ],
      "metadata": {
        "id": "0_0CFyBQmGy2"
      },
      "execution_count": null,
      "outputs": []
    },
    {
      "cell_type": "markdown",
      "source": [
        "Наименование классов"
      ],
      "metadata": {
        "id": "4gPmDQHtmkwG"
      }
    },
    {
      "cell_type": "code",
      "source": [
        "# Function to display images from a dataset\n",
        "def show_images(dataset, class_names):\n",
        "    plt.figure(figsize=(10, 10))\n",
        "    for images, labels in dataset.take(1):  # Take one batch from the dataset\n",
        "        for i in range(25):  # Display 25 images\n",
        "            ax = plt.subplot(5, 5, i + 1)\n",
        "            plt.imshow(images[i].numpy().astype(\"uint8\"))\n",
        "            plt.title(class_names[labels[i]])\n",
        "            plt.axis(\"off\")\n",
        "\n",
        "# Show images from training dataset\n",
        "show_images(train_ds, class_names)\n",
        "plt.show()"
      ],
      "metadata": {
        "id": "5jm4bKLAmno3"
      },
      "execution_count": null,
      "outputs": []
    },
    {
      "cell_type": "markdown",
      "source": [
        "Показ фотографий"
      ],
      "metadata": {
        "id": "JnF9jytimqh-"
      }
    },
    {
      "cell_type": "code",
      "source": [
        "# for faster training which takes less time and less memory for training\n",
        "AUTOTUNE = tf.data.experimental.AUTOTUNE\n",
        "\n",
        "train_ds = train_ds.cache().shuffle(1000).prefetch(buffer_size=AUTOTUNE)\n",
        "val_ds = val_ds.cache().prefetch(buffer_size=AUTOTUNE)"
      ],
      "metadata": {
        "id": "D4iQ9759nVyy"
      },
      "execution_count": null,
      "outputs": []
    },
    {
      "cell_type": "markdown",
      "source": [
        "Настройка Набора Данных Для Повышения Производительности"
      ],
      "metadata": {
        "id": "GSpaULYmnYn4"
      }
    },
    {
      "cell_type": "code",
      "source": [
        "# Augmentation for training dataset\n",
        "data_augmentation = tf.keras.Sequential([\n",
        "    tf.keras.layers.RandomFlip('horizontal'),\n",
        "    tf.keras.layers.RandomRotation(0.2)\n",
        "])"
      ],
      "metadata": {
        "id": "FnBaS_zMne9q"
      },
      "execution_count": null,
      "outputs": []
    },
    {
      "cell_type": "markdown",
      "source": [
        "Увеличение объема данных"
      ],
      "metadata": {
        "id": "u8KfPijInmvN"
      }
    },
    {
      "cell_type": "code",
      "source": [
        "# Using resNET model of transfer learning for training\n",
        "base_model = tf.keras.applications.ResNet50(include_top=False, weights='imagenet', input_shape=(100, 100, 3))"
      ],
      "metadata": {
        "id": "a_9O06tGoONo"
      },
      "execution_count": null,
      "outputs": []
    },
    {
      "cell_type": "markdown",
      "source": [
        "Модель ResNet Для обучения передаче данных"
      ],
      "metadata": {
        "id": "9PSK_x08odMI"
      }
    },
    {
      "cell_type": "code",
      "source": [
        "preprocess_input = tf.keras.applications.resnet.preprocess_input\n",
        "base_model.trainable = False"
      ],
      "metadata": {
        "id": "A45HeuXJof-S"
      },
      "execution_count": null,
      "outputs": []
    },
    {
      "cell_type": "code",
      "source": [
        "global_average_layer = tf.keras.layers.GlobalAveragePooling2D()\n",
        "prediction_layer = tf.keras.layers.Dense(num_classes)"
      ],
      "metadata": {
        "id": "bFga51lHomOM"
      },
      "execution_count": null,
      "outputs": []
    },
    {
      "cell_type": "code",
      "source": [
        "inputs = tf.keras.Input(shape=(100, 100, 3))\n",
        "x = data_augmentation(inputs)\n",
        "x = preprocess_input(x)\n",
        "x = base_model(x, training=False)\n",
        "x = global_average_layer(x)\n",
        "x = tf.keras.layers.Dropout(0.2)(x)\n",
        "outputs = prediction_layer(x)\n",
        "\n",
        "model = tf.keras.Model(inputs=inputs, outputs=outputs)"
      ],
      "metadata": {
        "id": "2nUsMlBio1nF"
      },
      "execution_count": null,
      "outputs": []
    },
    {
      "cell_type": "code",
      "source": [
        "optimizer = tf.keras.optimizers.Adam(learning_rate=0.0001)\n",
        "\n",
        "model.compile(\n",
        "    optimizer=optimizer,\n",
        "    loss=tf.keras.losses.SparseCategoricalCrossentropy(from_logits=True),\n",
        "    metrics=['accuracy']\n",
        ")"
      ],
      "metadata": {
        "id": "0C21wZTwo6J1"
      },
      "execution_count": null,
      "outputs": []
    },
    {
      "cell_type": "code",
      "source": [
        "base_model.summary()"
      ],
      "metadata": {
        "id": "IE5lQGNoo_Qb"
      },
      "execution_count": null,
      "outputs": []
    },
    {
      "cell_type": "markdown",
      "source": [
        "Построение модели"
      ],
      "metadata": {
        "id": "z52Fii13pxla"
      }
    },
    {
      "cell_type": "code",
      "source": [
        "# Define EarlyStopping callback\n",
        "early_stopping = callbacks.EarlyStopping(patience=3)\n",
        "\n",
        "# Train the model with early stopping\n",
        "history = model.fit(\n",
        "    train_ds,\n",
        "    epochs=10,\n",
        "    validation_data=val_ds,\n",
        "    callbacks=[early_stopping]  # Add the EarlyStopping callback to the training process\n",
        ")"
      ],
      "metadata": {
        "id": "_iDnYQeHpz81"
      },
      "execution_count": null,
      "outputs": []
    },
    {
      "cell_type": "markdown",
      "source": [
        "Тренировочная модель"
      ],
      "metadata": {
        "id": "WOvPGRsutJea"
      }
    },
    {
      "cell_type": "code",
      "source": [
        "def predict(model, img):\n",
        "    img_array = tf.keras.utils.img_to_array(images[i].numpy())\n",
        "    img_array = tf.expand_dims(img_array, 0)\n",
        "\n",
        "    predictions = model.predict(img_array)\n",
        "\n",
        "    predicted_class = class_names[np.argmax(predictions[0])]\n",
        "    confidence = round(100*(np.max(predictions[0])), 0)\n",
        "    return predicted_class, confidence"
      ],
      "metadata": {
        "id": "-Pc11ZBJtO3n"
      },
      "execution_count": null,
      "outputs": []
    },
    {
      "cell_type": "code",
      "source": [
        "import matplotlib.pyplot as plt\n",
        "\n",
        "# Assuming val_ds is your validation dataset\n",
        "plt.figure(figsize=(15, 15))\n",
        "for images, labels in val_ds.take(1):\n",
        "    for i in range(25):\n",
        "        ax = plt.subplot(5, 5, i+1)  # Adjust the subplot layout as per your preference\n",
        "        plt.imshow(images[i].numpy().astype(\"uint8\"))\n",
        "\n",
        "        predicted_class, confidence = predict(model, images[i].numpy())\n",
        "        actual_class = class_names[labels[i]]\n",
        "\n",
        "        plt.title(f\"Actual: {actual_class}, \\n Predicted: {predicted_class}.\\n Confidence: {confidence}%\")\n",
        "\n",
        "        plt.axis('off')\n",
        "\n",
        "plt.tight_layout()\n",
        "plt.show()"
      ],
      "metadata": {
        "id": "jMaAV3NktgYH"
      },
      "execution_count": null,
      "outputs": []
    },
    {
      "cell_type": "markdown",
      "source": [
        "Предсказания по фотографии"
      ],
      "metadata": {
        "id": "DtyLCe91tsBK"
      }
    }
  ]
}